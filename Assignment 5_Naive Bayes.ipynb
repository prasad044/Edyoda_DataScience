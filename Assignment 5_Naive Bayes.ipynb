{
 "cells": [
  {
   "cell_type": "markdown",
   "id": "965a36d5",
   "metadata": {},
   "source": [
    "# Assignment-5: Naive Bayes"
   ]
  },
  {
   "cell_type": "markdown",
   "id": "3c023d3f",
   "metadata": {},
   "source": [
    "## Weather condition to play outdoor"
   ]
  },
  {
   "cell_type": "markdown",
   "id": "9903231f",
   "metadata": {},
   "source": [
    "### Suppose we have a dataset of weather conditions and the corresponding target variable \"Play\". So using this dataset we need to decide whether we should play or not on a particular day according to the weather conditions. So to solve this problem, we need to follow the below steps:\n",
    "\n",
    "\n",
    "\n",
    "- Convert the given dataset into frequency tables.\n",
    "- Generate a Likelihood table by finding the probabilities of given features.\n",
    "- Now, use the Bayes theorem to calculate the posterior probability."
   ]
  },
  {
   "cell_type": "markdown",
   "id": "56f10172",
   "metadata": {},
   "source": [
    "### Problem: If the weather is sunny, then the Player should play or not?"
   ]
  },
  {
   "cell_type": "code",
   "execution_count": 1,
   "id": "9c36f812",
   "metadata": {},
   "outputs": [],
   "source": [
    "import pandas as pd\n",
    "import numpy as np\n",
    "import matplotlib.pyplot as plt\n",
    "import seaborn as sns"
   ]
  },
  {
   "cell_type": "code",
   "execution_count": 2,
   "id": "43ebfc69",
   "metadata": {},
   "outputs": [
    {
     "data": {
      "text/html": [
       "<div>\n",
       "<style scoped>\n",
       "    .dataframe tbody tr th:only-of-type {\n",
       "        vertical-align: middle;\n",
       "    }\n",
       "\n",
       "    .dataframe tbody tr th {\n",
       "        vertical-align: top;\n",
       "    }\n",
       "\n",
       "    .dataframe thead th {\n",
       "        text-align: right;\n",
       "    }\n",
       "</style>\n",
       "<table border=\"1\" class=\"dataframe\">\n",
       "  <thead>\n",
       "    <tr style=\"text-align: right;\">\n",
       "      <th></th>\n",
       "      <th>No</th>\n",
       "      <th>weather</th>\n",
       "      <th>play</th>\n",
       "    </tr>\n",
       "  </thead>\n",
       "  <tbody>\n",
       "    <tr>\n",
       "      <th>0</th>\n",
       "      <td>1</td>\n",
       "      <td>Rainy</td>\n",
       "      <td>Yes</td>\n",
       "    </tr>\n",
       "    <tr>\n",
       "      <th>1</th>\n",
       "      <td>2</td>\n",
       "      <td>Sunny</td>\n",
       "      <td>Yes</td>\n",
       "    </tr>\n",
       "    <tr>\n",
       "      <th>2</th>\n",
       "      <td>3</td>\n",
       "      <td>Overcast</td>\n",
       "      <td>Yes</td>\n",
       "    </tr>\n",
       "    <tr>\n",
       "      <th>3</th>\n",
       "      <td>4</td>\n",
       "      <td>Overcast</td>\n",
       "      <td>Yes</td>\n",
       "    </tr>\n",
       "    <tr>\n",
       "      <th>4</th>\n",
       "      <td>5</td>\n",
       "      <td>Sunny</td>\n",
       "      <td>No</td>\n",
       "    </tr>\n",
       "    <tr>\n",
       "      <th>5</th>\n",
       "      <td>6</td>\n",
       "      <td>Rainy</td>\n",
       "      <td>Yes</td>\n",
       "    </tr>\n",
       "    <tr>\n",
       "      <th>6</th>\n",
       "      <td>7</td>\n",
       "      <td>Sunny</td>\n",
       "      <td>Yes</td>\n",
       "    </tr>\n",
       "    <tr>\n",
       "      <th>7</th>\n",
       "      <td>8</td>\n",
       "      <td>Overcast</td>\n",
       "      <td>Yes</td>\n",
       "    </tr>\n",
       "    <tr>\n",
       "      <th>8</th>\n",
       "      <td>9</td>\n",
       "      <td>Rainy</td>\n",
       "      <td>No</td>\n",
       "    </tr>\n",
       "    <tr>\n",
       "      <th>9</th>\n",
       "      <td>10</td>\n",
       "      <td>Sunny</td>\n",
       "      <td>No</td>\n",
       "    </tr>\n",
       "    <tr>\n",
       "      <th>10</th>\n",
       "      <td>11</td>\n",
       "      <td>Sunny</td>\n",
       "      <td>Yes</td>\n",
       "    </tr>\n",
       "    <tr>\n",
       "      <th>11</th>\n",
       "      <td>12</td>\n",
       "      <td>Rainy</td>\n",
       "      <td>No</td>\n",
       "    </tr>\n",
       "    <tr>\n",
       "      <th>12</th>\n",
       "      <td>13</td>\n",
       "      <td>Overcast</td>\n",
       "      <td>Yes</td>\n",
       "    </tr>\n",
       "    <tr>\n",
       "      <th>13</th>\n",
       "      <td>14</td>\n",
       "      <td>Overcast</td>\n",
       "      <td>Yes</td>\n",
       "    </tr>\n",
       "  </tbody>\n",
       "</table>\n",
       "</div>"
      ],
      "text/plain": [
       "    No   weather play\n",
       "0    1     Rainy  Yes\n",
       "1    2     Sunny  Yes\n",
       "2    3  Overcast  Yes\n",
       "3    4  Overcast  Yes\n",
       "4    5     Sunny   No\n",
       "5    6     Rainy  Yes\n",
       "6    7     Sunny  Yes\n",
       "7    8  Overcast  Yes\n",
       "8    9     Rainy   No\n",
       "9   10     Sunny   No\n",
       "10  11     Sunny  Yes\n",
       "11  12     Rainy   No\n",
       "12  13  Overcast  Yes\n",
       "13  14  Overcast  Yes"
      ]
     },
     "execution_count": 2,
     "metadata": {},
     "output_type": "execute_result"
    }
   ],
   "source": [
    "data = pd.read_csv('Whether_Condition.csv')\n",
    "data"
   ]
  },
  {
   "cell_type": "code",
   "execution_count": 3,
   "id": "e76f4234",
   "metadata": {},
   "outputs": [],
   "source": [
    "data = data.drop(columns = 'No')"
   ]
  },
  {
   "cell_type": "code",
   "execution_count": 4,
   "id": "cda60400",
   "metadata": {},
   "outputs": [
    {
     "data": {
      "text/plain": [
       "(14, 2)"
      ]
     },
     "execution_count": 4,
     "metadata": {},
     "output_type": "execute_result"
    }
   ],
   "source": [
    "data.shape"
   ]
  },
  {
   "cell_type": "markdown",
   "id": "1770f49b",
   "metadata": {},
   "source": [
    "## 1) Convert the given dataset into frequency tables."
   ]
  },
  {
   "cell_type": "markdown",
   "id": "40e03146",
   "metadata": {},
   "source": [
    "| Weather |\tNo | Yes |\n",
    "|:-------:|:--:|:---:|\n",
    "| Overcast | 0 | 5 |\n",
    "| Rainy\t| 2\t| 2 |\n",
    "| Sunny\t| 2\t| 3 |\n",
    "| Total\t| 4\t| 10 |"
   ]
  },
  {
   "cell_type": "markdown",
   "id": "c7b6b80a",
   "metadata": {},
   "source": [
    "## 2) Generate a Likelihood table by finding the probabilities of given features."
   ]
  },
  {
   "cell_type": "markdown",
   "id": "5f440452",
   "metadata": {},
   "source": [
    "| Weather |\tNo | Yes |\n",
    "|:-------:|:--:|:---:|\n",
    "| Overcast | 0 | 5 | 5/14= 0.35 |\n",
    "| Rainy | 2 | 2 | 4/14=0.29 |\n",
    "| Sunny\t| 2\t| 3\t| 5/14=0.35 |\n",
    "| All\t| 4/14=0.29\t| 10/14=0.71 |"
   ]
  },
  {
   "cell_type": "markdown",
   "id": "2b41b442",
   "metadata": {},
   "source": [
    "## 3) Now, use the Bayes theorem to calculate the posterior probability."
   ]
  },
  {
   "cell_type": "markdown",
   "id": "2b098305",
   "metadata": {},
   "source": [
    "- P(Yes|Sunny)=P(Sunny|Yes)∗P(Yes)/P(Sunny)\n",
    " \n",
    "P(Sunny|Yes)=3/10=0.3\n",
    " \n",
    "P(Sunny)=0.35\n",
    " \n",
    "P(Yes)=0.71\n",
    " \n",
    "\n",
    "- So  P(Yes|Sunny)=0.3∗0.71/0.35=0.60\n",
    " \n",
    "\n",
    "- P(No|Sunny)=P(Sunny|No)∗P(No)/P(Sunny)\n",
    " \n",
    "P(Sunny|NO)=2/4=0.5\n",
    " \n",
    "P(No)=0.29\n",
    " \n",
    "P(Sunny)=0.35\n",
    " \n",
    "\n",
    "- So  P(No|Sunny)=0.5∗0.29/0.35=0.41\n",
    " \n",
    "\n",
    "### So as we can see from the above calculation that  P(Yes|Sunny)>P(No|Sunny)\n",
    " \n",
    "\n",
    "### Hence on a Sunny day, Player can play the game."
   ]
  },
  {
   "cell_type": "markdown",
   "id": "a445a923",
   "metadata": {},
   "source": [
    "## Python Implementation"
   ]
  },
  {
   "cell_type": "code",
   "execution_count": 5,
   "id": "36e00126",
   "metadata": {},
   "outputs": [
    {
     "data": {
      "text/plain": [
       "LabelEncoder()"
      ]
     },
     "execution_count": 5,
     "metadata": {},
     "output_type": "execute_result"
    }
   ],
   "source": [
    "from sklearn.preprocessing import LabelEncoder\n",
    "le = LabelEncoder()\n",
    "le"
   ]
  },
  {
   "cell_type": "code",
   "execution_count": 6,
   "id": "8135dd33",
   "metadata": {},
   "outputs": [],
   "source": [
    "data['weather'] = le.fit_transform(data['weather'])"
   ]
  },
  {
   "cell_type": "code",
   "execution_count": 7,
   "id": "2bb4a622",
   "metadata": {},
   "outputs": [
    {
     "data": {
      "text/html": [
       "<div>\n",
       "<style scoped>\n",
       "    .dataframe tbody tr th:only-of-type {\n",
       "        vertical-align: middle;\n",
       "    }\n",
       "\n",
       "    .dataframe tbody tr th {\n",
       "        vertical-align: top;\n",
       "    }\n",
       "\n",
       "    .dataframe thead th {\n",
       "        text-align: right;\n",
       "    }\n",
       "</style>\n",
       "<table border=\"1\" class=\"dataframe\">\n",
       "  <thead>\n",
       "    <tr style=\"text-align: right;\">\n",
       "      <th></th>\n",
       "      <th>weather</th>\n",
       "      <th>play</th>\n",
       "    </tr>\n",
       "  </thead>\n",
       "  <tbody>\n",
       "    <tr>\n",
       "      <th>0</th>\n",
       "      <td>1</td>\n",
       "      <td>Yes</td>\n",
       "    </tr>\n",
       "    <tr>\n",
       "      <th>1</th>\n",
       "      <td>2</td>\n",
       "      <td>Yes</td>\n",
       "    </tr>\n",
       "    <tr>\n",
       "      <th>2</th>\n",
       "      <td>0</td>\n",
       "      <td>Yes</td>\n",
       "    </tr>\n",
       "    <tr>\n",
       "      <th>3</th>\n",
       "      <td>0</td>\n",
       "      <td>Yes</td>\n",
       "    </tr>\n",
       "    <tr>\n",
       "      <th>4</th>\n",
       "      <td>2</td>\n",
       "      <td>No</td>\n",
       "    </tr>\n",
       "  </tbody>\n",
       "</table>\n",
       "</div>"
      ],
      "text/plain": [
       "   weather play\n",
       "0        1  Yes\n",
       "1        2  Yes\n",
       "2        0  Yes\n",
       "3        0  Yes\n",
       "4        2   No"
      ]
     },
     "execution_count": 7,
     "metadata": {},
     "output_type": "execute_result"
    }
   ],
   "source": [
    "data.head()"
   ]
  },
  {
   "cell_type": "code",
   "execution_count": 8,
   "id": "b10e2259",
   "metadata": {},
   "outputs": [],
   "source": [
    "X = data.drop(\"play\", axis = 1)\n",
    "y = data[\"play\"]"
   ]
  },
  {
   "cell_type": "code",
   "execution_count": 9,
   "id": "d177618f",
   "metadata": {},
   "outputs": [],
   "source": [
    "from sklearn.model_selection import train_test_split\n",
    "X_train, X_test, y_train, y_test = train_test_split(X, y, test_size = 0.25, random_state = 0)"
   ]
  },
  {
   "cell_type": "code",
   "execution_count": 10,
   "id": "b3476b29",
   "metadata": {},
   "outputs": [
    {
     "data": {
      "text/plain": [
       "GaussianNB()"
      ]
     },
     "execution_count": 10,
     "metadata": {},
     "output_type": "execute_result"
    }
   ],
   "source": [
    "from sklearn.naive_bayes import GaussianNB\n",
    "gnb = GaussianNB()\n",
    "gnb"
   ]
  },
  {
   "cell_type": "code",
   "execution_count": 11,
   "id": "5e18cdc2",
   "metadata": {},
   "outputs": [
    {
     "data": {
      "text/plain": [
       "GaussianNB()"
      ]
     },
     "execution_count": 11,
     "metadata": {},
     "output_type": "execute_result"
    }
   ],
   "source": [
    "gnb.fit(X_train, y_train)"
   ]
  },
  {
   "cell_type": "code",
   "execution_count": 12,
   "id": "4c4058f4",
   "metadata": {},
   "outputs": [
    {
     "data": {
      "text/plain": [
       "array(['Yes', 'No', 'No', 'Yes'], dtype='<U3')"
      ]
     },
     "execution_count": 12,
     "metadata": {},
     "output_type": "execute_result"
    }
   ],
   "source": [
    "y_pred = gnb.predict(X_test)\n",
    "y_pred"
   ]
  },
  {
   "cell_type": "code",
   "execution_count": 13,
   "id": "6ccaa627",
   "metadata": {},
   "outputs": [
    {
     "data": {
      "text/plain": [
       "0.25"
      ]
     },
     "execution_count": 13,
     "metadata": {},
     "output_type": "execute_result"
    }
   ],
   "source": [
    "from sklearn.metrics import accuracy_score\n",
    "accuracy_score(y_pred, y_test)"
   ]
  },
  {
   "cell_type": "code",
   "execution_count": null,
   "id": "e307792b",
   "metadata": {},
   "outputs": [],
   "source": []
  }
 ],
 "metadata": {
  "kernelspec": {
   "display_name": "Python 3 (ipykernel)",
   "language": "python",
   "name": "python3"
  },
  "language_info": {
   "codemirror_mode": {
    "name": "ipython",
    "version": 3
   },
   "file_extension": ".py",
   "mimetype": "text/x-python",
   "name": "python",
   "nbconvert_exporter": "python",
   "pygments_lexer": "ipython3",
   "version": "3.7.16"
  }
 },
 "nbformat": 4,
 "nbformat_minor": 5
}
